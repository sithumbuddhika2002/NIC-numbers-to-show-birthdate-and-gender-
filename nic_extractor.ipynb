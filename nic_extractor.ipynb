{
 "cells": [
  {
   "cell_type": "code",
   "execution_count": 4,
   "id": "fa5bfb4a",
   "metadata": {},
   "outputs": [],
   "source": [
    "import tkinter as tk\n",
    "from tkinter import messagebox  # For error popups\n",
    "from datetime import datetime, timedelta\n",
    "def process_nic():\n",
    "    nic = entry_nic.get().strip()  # Get NIC and remove extra spaces\n",
    "    \n",
    "    try:\n",
    " \n",
    "        if len(nic) == 10 and nic[9].upper() == 'V': \n",
    "            year = int(\"19\" + nic[0:2])  # Add \"19\" to get full year (e.g., 1992)\n",
    "            days = int(nic[2:5])  # Days portion (e.g., 123)\n",
    "        \n",
    "        elif len(nic) == 12: \n",
    "            year = int(nic[0:4])  # Full year (e.g., 1992)\n",
    "            days = int(nic[4:7])  # Days portion (e.g., 123)\n",
    "        \n",
    "        else:\n",
    "            raise ValueError(\"Invalid NIC format. Use 10-digit (YYMMDDXXXV) or 12-digit (YYYYMMDDXXXX)\")\n",
    "\n",
    "\n",
    "        gender = \"Female\" if days > 500 else \"Male\"\n",
    "        \n",
    "        # Adjust days for females (subtract 500 if > 500)\n",
    "        actual_days = days - 500 if days > 500 else days\n",
    "        \n",
    "        # Calculate birthdate (start at Jan 1, add days)\n",
    "        birth_date = datetime(year, 1, 1) + timedelta(days=actual_days - 1)\n",
    "        \n",
    "\n",
    "        result = f\"Birthdate: {birth_date.strftime('%Y-%m-%d')}\\nGender: {gender}\"\n",
    "        result_label.config(text=result)\n",
    "    \n",
    "    except ValueError as e:\n",
    "        messagebox.showerror(\"Error\", str(e))  # Show error popup\n",
    "    except Exception:\n",
    "        messagebox.showerror(\"Error\", \"Invalid NIC number\")\n",
    "\n",
    "# Create the main window\n",
    "window = tk.Tk()\n",
    "window.title(\"NIC Information Extractor\")\n",
    "window.geometry(\"300x200\")\n",
    "\n",
    "tk.Label(window, text=\"Enter NIC Number:\").pack(pady=5)\n",
    "\n",
    "entry_nic = tk.Entry(window, width=20)\n",
    "entry_nic.pack(pady=5)\n",
    "\n",
    "tk.Button(window, text=\"Process\", command=process_nic).pack(pady=5)\n",
    "\n",
    "result_label = tk.Label(window, text=\"\", justify=\"left\")\n",
    "result_label.pack(pady=10)\n",
    "\n",
    "window.mainloop()"
   ]
  },
  {
   "cell_type": "code",
   "execution_count": null,
   "id": "6d87531c",
   "metadata": {},
   "outputs": [],
   "source": []
  }
 ],
 "metadata": {
  "kernelspec": {
   "display_name": "Python 3",
   "language": "python",
   "name": "python3"
  },
  "language_info": {
   "codemirror_mode": {
    "name": "ipython",
    "version": 3
   },
   "file_extension": ".py",
   "mimetype": "text/x-python",
   "name": "python",
   "nbconvert_exporter": "python",
   "pygments_lexer": "ipython3",
   "version": "3.12.7"
  }
 },
 "nbformat": 4,
 "nbformat_minor": 5
}
